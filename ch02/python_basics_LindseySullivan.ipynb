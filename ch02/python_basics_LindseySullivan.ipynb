{
 "cells": [
  {
   "cell_type": "markdown",
   "id": "e3404440-f820-4854-9b91-40275bb3b752",
   "metadata": {},
   "source": [
    "Written by: Lindsey Sullivan\n",
    "Used to text different descriptive statistic functions"
   ]
  },
  {
   "cell_type": "code",
   "execution_count": 1,
   "id": "8677984f-5f3f-4040-8287-d014bb8dc11f",
   "metadata": {},
   "outputs": [],
   "source": [
    "number1=2\n",
    "number2=5\n",
    "number3=8"
   ]
  },
  {
   "cell_type": "code",
   "execution_count": 2,
   "id": "739ccada-efd9-4f84-9702-78c94f585d16",
   "metadata": {},
   "outputs": [
    {
     "data": {
      "text/plain": [
       "8"
      ]
     },
     "execution_count": 2,
     "metadata": {},
     "output_type": "execute_result"
    }
   ],
   "source": [
    "max(2,5,8)"
   ]
  },
  {
   "cell_type": "code",
   "execution_count": 3,
   "id": "7270e65e-39ce-4fa9-b412-90c2d81260cc",
   "metadata": {},
   "outputs": [
    {
     "data": {
      "text/plain": [
       "2"
      ]
     },
     "execution_count": 3,
     "metadata": {},
     "output_type": "execute_result"
    }
   ],
   "source": [
    "min(2,5,8)"
   ]
  },
  {
   "cell_type": "code",
   "execution_count": 4,
   "id": "22c5eb81-8af7-4a69-bcd0-ebd19d3872f9",
   "metadata": {},
   "outputs": [
    {
     "data": {
      "text/plain": [
       "15"
      ]
     },
     "execution_count": 4,
     "metadata": {},
     "output_type": "execute_result"
    }
   ],
   "source": [
    "sum([2,5,8])"
   ]
  },
  {
   "cell_type": "code",
   "execution_count": 6,
   "id": "027a1f31-164b-426e-95ed-ccbfa007ee34",
   "metadata": {},
   "outputs": [
    {
     "data": {
      "text/plain": [
       "3"
      ]
     },
     "execution_count": 6,
     "metadata": {},
     "output_type": "execute_result"
    }
   ],
   "source": [
    "len([2,5,8])"
   ]
  },
  {
   "cell_type": "code",
   "execution_count": 7,
   "id": "18028e43-70f4-40a4-9b26-0767e0daca2a",
   "metadata": {},
   "outputs": [
    {
     "data": {
      "text/plain": [
       "5.0"
      ]
     },
     "execution_count": 7,
     "metadata": {},
     "output_type": "execute_result"
    }
   ],
   "source": [
    "sum([2,5,8])/len([2,5,8])"
   ]
  },
  {
   "cell_type": "code",
   "execution_count": 9,
   "id": "e04b85a7-f0c9-4b71-b655-34c3e901ac56",
   "metadata": {},
   "outputs": [
    {
     "name": "stdout",
     "output_type": "stream",
     "text": [
      "The data set is 2,5,8 \n",
      " The maximimum is: 8 The minimum is: 2 \n",
      " The sum of the data set is: 15 \n",
      " The length is: 3 \n",
      "The average of the sum and length is: 5.0\n"
     ]
    }
   ],
   "source": [
    "print('The data set is 2,5,8 \\n The maximimum is:',max(2,5,8),'The minimum is:',min(2,5,8),\n",
    "      '\\n The sum of the data set is:',sum([2,5,8]),'\\n The length is:',len([2,5,8]), '\\nThe average of the sum and length is:',\n",
    "      sum([2,5,8])/len([2,5,8]))\n",
    "      \n",
    "      "
   ]
  },
  {
   "cell_type": "code",
   "execution_count": null,
   "id": "b1174fb0-a256-4e92-b214-06dfa51adb89",
   "metadata": {},
   "outputs": [],
   "source": []
  }
 ],
 "metadata": {
  "kernelspec": {
   "display_name": "Python 3",
   "language": "python",
   "name": "python3"
  },
  "language_info": {
   "codemirror_mode": {
    "name": "ipython",
    "version": 3
   },
   "file_extension": ".py",
   "mimetype": "text/x-python",
   "name": "python",
   "nbconvert_exporter": "python",
   "pygments_lexer": "ipython3",
   "version": "3.9.12"
  }
 },
 "nbformat": 4,
 "nbformat_minor": 5
}
